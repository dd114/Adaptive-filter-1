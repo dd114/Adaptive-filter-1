{
 "cells": [
  {
   "cell_type": "code",
   "execution_count": 119,
   "metadata": {
    "pycharm": {
     "name": "#%%\n"
    }
   },
   "outputs": [],
   "source": [
    "import numpy as np\n",
    "from matplotlib import pyplot as plt\n",
    "import padasip as pa\n",
    "from scipy import fftpack\n",
    "import processing_signals as ps\n",
    "\n",
    "# plt.figure(figsize=(10, 7))"
   ]
  },
  {
   "cell_type": "code",
   "execution_count": 120,
   "metadata": {
    "pycharm": {
     "name": "#%%\n"
    }
   },
   "outputs": [
    {
     "name": "stdout",
     "output_type": "stream",
     "text": [
      "501 501 1025\n"
     ]
    }
   ],
   "source": [
    "regexp = r'[+-]?\\d+\\.?\\d*'\n",
    "BP1 = np.fromregex('BP1.lcn', regexp, [('num', np.float64)])['num']\n",
    "BP2 = np.fromregex('BP2.lcn', regexp, [('num', np.float64)])['num']\n",
    "OPERATOR = np.fromregex('OPERATOR.lcn', regexp, [('num', np.float64)])['num']\n",
    "\n",
    "print(BP1.size, BP2.size, OPERATOR.size)"
   ]
  },
  {
   "cell_type": "markdown",
   "metadata": {
    "pycharm": {
     "name": "#%% md\n"
    }
   },
   "source": [
    "Моделируем входной и выходной 2d сигнал на адаптивный фильтр"
   ]
  },
  {
   "cell_type": "code",
   "execution_count": null,
   "metadata": {
    "pycharm": {
     "name": "#%%\n"
    }
   },
   "outputs": [],
   "source": [
    "plt.figure(figsize=(15, 6))\n",
    "\n",
    "plt.subplot(311)\n",
    "plt.plot(BP1)\n",
    "plt.title(\"BP1\")\n",
    "\n",
    "plt.subplot(312)\n",
    "plt.plot(BP2)\n",
    "plt.title(\"BP2\")\n",
    "\n",
    "plt.subplot(313)\n",
    "plt.plot(OPERATOR)\n",
    "plt.title(\"OPERATOR\")\n",
    "plt.show()"
   ]
  },
  {
   "cell_type": "code",
   "execution_count": null,
   "metadata": {
    "pycharm": {
     "name": "#%%\n"
    }
   },
   "outputs": [],
   "source": [
    "approx_BP2 = ps.processing_of_signal(BP1, OPERATOR[::])\n",
    "\n",
    "plt.figure(figsize=(15, 6))\n",
    "\n",
    "# plt.plot(BP2)\n",
    "plt.plot(approx_BP2)\n",
    "plt.title(\"approx_BP2\")\n",
    "\n",
    "plt.show()"
   ]
  },
  {
   "cell_type": "code",
   "execution_count": null,
   "metadata": {
    "pycharm": {
     "name": "#%%\n"
    }
   },
   "outputs": [],
   "source": [
    "approx_weights_nlms = ps.fitting_of_weights(BP1, BP2, 10, 0.5, 0.000).flatten()\n",
    "print(approx_weights_nlms)"
   ]
  },
  {
   "cell_type": "code",
   "execution_count": null,
   "metadata": {
    "pycharm": {
     "name": "#%%\n"
    }
   },
   "outputs": [],
   "source": [
    "approx_weights_rls = ps.RLS(BP1, BP2, 10, 0.9).flatten()\n",
    "print(approx_weights_rls)"
   ]
  },
  {
   "cell_type": "code",
   "execution_count": null,
   "metadata": {
    "pycharm": {
     "name": "#%%\n"
    }
   },
   "outputs": [],
   "source": [
    "approx_BP2_nlms = ps.processing_of_signal(BP1, approx_weights_nlms)\n",
    "approx_BP2_rls = ps.processing_of_signal(BP1, approx_weights_rls)\n",
    "\n",
    "plt.figure(figsize=(15, 6))\n",
    "\n",
    "plt.subplot(211)\n",
    "plt.plot(BP2)\n",
    "plt.plot(approx_BP2_nlms)\n",
    "plt.title(\"nlms\")\n",
    "\n",
    "plt.subplot(212)\n",
    "plt.plot(BP2)\n",
    "plt.plot(approx_BP2_rls)\n",
    "plt.title(\"rls\")\n",
    "\n",
    "plt.show()"
   ]
  },
  {
   "cell_type": "markdown",
   "metadata": {
    "pycharm": {
     "name": "#%% md\n"
    }
   },
   "source": [
    "# Padasip"
   ]
  },
  {
   "cell_type": "code",
   "execution_count": null,
   "metadata": {
    "pycharm": {
     "name": "#%%\n"
    }
   },
   "outputs": [],
   "source": [
    "number_of_weights_p_nlms = 10\n",
    "number_of_weights_p_rls = 10"
   ]
  },
  {
   "cell_type": "code",
   "execution_count": null,
   "metadata": {
    "pycharm": {
     "name": "#%%\n"
    }
   },
   "outputs": [],
   "source": [
    "first_input_1d_nlms = pa.input_from_history(BP1, number_of_weights_p_nlms)\n",
    "first_input_1d_rls = pa.input_from_history(BP1, number_of_weights_p_rls)\n",
    "second_input_1d = BP2"
   ]
  },
  {
   "cell_type": "code",
   "execution_count": null,
   "metadata": {
    "pycharm": {
     "name": "#%%\n"
    }
   },
   "outputs": [],
   "source": [
    "f = pa.filters.FilterNLMS(n=number_of_weights_p_nlms, mu=2*0.5, eps=0, w=\"zeros\")\n",
    "y, e, w = f.run(second_input_1d[:-(number_of_weights_p_nlms-1)], first_input_1d_nlms)\n",
    "\n",
    "approx_weights_p_nlms = w[-1]\n",
    "print(approx_weights_p_nlms)"
   ]
  },
  {
   "cell_type": "code",
   "execution_count": null,
   "metadata": {
    "pycharm": {
     "name": "#%%\n"
    }
   },
   "outputs": [],
   "source": [
    "f = pa.filters.FilterRLS(n=number_of_weights_p_rls, mu=0.9, w=\"zeros\")\n",
    "y, e, w = f.run(second_input_1d[:-(number_of_weights_p_rls-1)], first_input_1d_rls)\n",
    "\n",
    "approx_weights_p_rls = w[-1]\n",
    "print(approx_weights_p_rls)"
   ]
  },
  {
   "cell_type": "code",
   "execution_count": null,
   "metadata": {
    "pycharm": {
     "name": "#%%\n"
    }
   },
   "outputs": [],
   "source": [
    "approx_BP2_p_nlms = ps.processing_of_signal(BP1, approx_weights_p_nlms)\n",
    "approx_BP2_p_rls = ps.processing_of_signal(BP1, approx_weights_p_rls)\n",
    "\n",
    "plt.figure(figsize=(15, 6))\n",
    "\n",
    "plt.subplot(211)\n",
    "plt.plot(BP2)\n",
    "plt.plot(approx_BP2_p_nlms)\n",
    "plt.title(\"nlms\")\n",
    "\n",
    "plt.subplot(212)\n",
    "plt.plot(BP2)\n",
    "plt.plot(approx_BP2_p_rls)\n",
    "plt.title(\"rls\")\n",
    "\n",
    "plt.show()"
   ]
  },
  {
   "cell_type": "code",
   "execution_count": null,
   "metadata": {
    "pycharm": {
     "name": "#%%\n"
    }
   },
   "outputs": [],
   "source": [
    "# print(f\"MSE = {ps.MSE(BP2, approx_BP2):.3e}\")\n",
    "# print(f\"ME = {ps.ME(BP2, approx_BP2):.3e}\")\n",
    "print(\"My NLMS\")\n",
    "print(f\"MSE = {ps.MSE(BP2, approx_BP2_nlms):.3e}\")\n",
    "print(f\"ME = {ps.ME(BP2, approx_BP2_nlms):.3e}\")\n",
    "print(\"Padasip NLMS\")\n",
    "print(f\"MSE = {ps.MSE(BP2, approx_BP2_p_nlms):.3e}\")\n",
    "print(f\"ME = {ps.ME(BP2, approx_BP2_p_nlms):.3e}\")\n",
    "print(\"My RLS\")\n",
    "print(f\"MSE = {ps.MSE(BP2, approx_BP2_rls):.3e}\")\n",
    "print(f\"ME = {ps.ME(BP2,approx_BP2_rls):.3e}\")\n",
    "print(\"Padasip RLS\")\n",
    "print(f\"MSE = {ps.MSE(BP2, approx_BP2_p_rls):.3e}\")\n",
    "print(f\"ME = {ps.ME(BP2, approx_BP2_p_rls):.3e}\")"
   ]
  }
 ],
 "metadata": {
  "kernelspec": {
   "display_name": "Python 3 (ipykernel)",
   "language": "python",
   "name": "python3"
  },
  "language_info": {
   "codemirror_mode": {
    "name": "ipython",
    "version": 3
   },
   "file_extension": ".py",
   "mimetype": "text/x-python",
   "name": "python",
   "nbconvert_exporter": "python",
   "pygments_lexer": "ipython3",
   "version": "3.10.9"
  },
  "vscode": {
   "interpreter": {
    "hash": "c261aea317cc0286b3b3261fbba9abdec21eaa57589985bb7a274bf54d6cc0a7"
   }
  }
 },
 "nbformat": 4,
 "nbformat_minor": 1
}